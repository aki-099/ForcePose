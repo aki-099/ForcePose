{
 "cells": [
  {
   "cell_type": "markdown",
   "metadata": {},
   "source": [
    "## subsets.jsonの作成"
   ]
  },
  {
   "cell_type": "markdown",
   "metadata": {},
   "source": [
    "### 3d座標の定義"
   ]
  },
  {
   "cell_type": "code",
   "execution_count": 1,
   "metadata": {},
   "outputs": [],
   "source": [
    "import os\n",
    "import sys\n",
    "import cv2\n",
    "import json"
   ]
  },
  {
   "cell_type": "code",
   "execution_count": 2,
   "metadata": {},
   "outputs": [],
   "source": [
    "# キャリブレーションキューブの形状を定義\n",
    "length = 0.96\n",
    "width = 0.52\n",
    "height = 0.96"
   ]
  },
  {
   "cell_type": "code",
   "execution_count": 4,
   "metadata": {},
   "outputs": [
    {
     "data": {
      "text/plain": [
       "{'markers': [{'name': 'point_1', 'world_position': [0, 0, 0]},\n",
       "  {'name': 'point_2', 'world_position': [0.96, 0, 0]},\n",
       "  {'name': 'point_3', 'world_position': [0.96, 0, 0.52]},\n",
       "  {'name': 'point_4', 'world_position': [0, 0, 0.52]},\n",
       "  {'name': 'point_5', 'world_position': [0, 0.96, 0]},\n",
       "  {'name': 'point_6', 'world_position': [0.96, 0.96, 0]},\n",
       "  {'name': 'point_7', 'world_position': [0.96, 0.96, 0.52]},\n",
       "  {'name': 'point_8', 'world_position': [0, 0.96, 0.52]}]}"
      ]
     },
     "execution_count": 4,
     "metadata": {},
     "output_type": "execute_result"
    }
   ],
   "source": [
    "points = {\n",
    "    \"point_1\": [0, 0, 0],\n",
    "    \"point_2\": [length, 0, 0],\n",
    "    \"point_3\": [length, 0, width],\n",
    "    \"point_4\": [0, 0, width],\n",
    "    \"point_5\": [0, height, 0],\n",
    "    \"point_6\": [length, height, 0],\n",
    "    \"point_7\": [length, height, width],\n",
    "    \"point_8\": [0, height, width]\n",
    "}\n",
    "\n",
    "# JSON形式に変換\n",
    "markers = []\n",
    "for name, coords in points.items():\n",
    "    marker = {\n",
    "        \"name\": name,\n",
    "        \"world_position\": coords\n",
    "    }\n",
    "    markers.append(marker)\n",
    "\n",
    "# 結果確認\n",
    "markers_json = {\"markers\": markers}\n",
    "markers_json"
   ]
  },
  {
   "cell_type": "markdown",
   "metadata": {},
   "source": [
    "### 2d座標の取得"
   ]
  },
  {
   "cell_type": "code",
   "execution_count": 5,
   "metadata": {},
   "outputs": [
    {
     "name": "stdout",
     "output_type": "stream",
     "text": [
      "Processing 3d_points.json\n",
      "Processing cam1.MOV\n",
      "[(588, 660)]\n",
      "[(588, 660), (745, 707)]\n",
      "[(588, 660)]\n",
      "[(588, 660), (744, 706)]\n",
      "[(588, 660), (744, 706), (848, 683)]\n",
      "[(588, 660), (744, 706)]\n",
      "[(588, 660), (744, 706), (847, 683)]\n",
      "[(588, 660), (744, 706), (847, 683), (688, 643)]\n",
      "[(588, 660), (744, 706), (847, 683)]\n",
      "[(588, 660), (744, 706), (847, 683), (688, 641)]\n",
      "[(588, 660), (744, 706), (847, 683)]\n",
      "[(588, 660), (744, 706), (847, 683), (687, 640)]\n",
      "[(588, 660), (744, 706), (847, 683)]\n",
      "[(588, 660), (744, 706), (847, 683), (687, 641)]\n",
      "[(588, 660), (744, 706), (847, 683), (687, 641), (587, 541)]\n",
      "[(588, 660), (744, 706), (847, 683), (687, 641), (587, 541), (745, 573)]\n",
      "[(588, 660), (744, 706), (847, 683), (687, 641), (587, 541)]\n",
      "[(588, 660), (744, 706), (847, 683), (687, 641), (587, 541), (744, 572)]\n",
      "[(588, 660), (744, 706), (847, 683), (687, 641), (587, 541)]\n",
      "[(588, 660), (744, 706), (847, 683), (687, 641), (587, 541), (744, 574)]\n",
      "[(588, 660), (744, 706), (847, 683), (687, 641), (587, 541)]\n",
      "[(588, 660), (744, 706), (847, 683), (687, 641), (587, 541), (744, 573)]\n",
      "[(588, 660), (744, 706), (847, 683), (687, 641), (587, 541), (744, 573), (847, 557)]\n",
      "[(588, 660), (744, 706), (847, 683), (687, 641), (587, 541), (744, 573), (847, 557), (687, 528)]\n",
      "Processing cam2.mov\n",
      "[(1247, 737)]\n",
      "[(1247, 737), (1104, 760)]\n",
      "[(1247, 737), (1104, 760), (1173, 778)]\n",
      "[(1247, 737), (1104, 760)]\n",
      "[(1247, 737), (1104, 760), (1173, 776)]\n",
      "[(1247, 737), (1104, 760)]\n",
      "[(1247, 737), (1104, 760), (1172, 777)]\n",
      "[(1247, 737), (1104, 760), (1172, 777), (1319, 752)]\n",
      "[(1247, 737), (1104, 760), (1172, 777)]\n",
      "[(1247, 737), (1104, 760), (1172, 777), (1319, 751)]\n",
      "[(1247, 737), (1104, 760), (1172, 777), (1319, 751), (1248, 647)]\n",
      "[(1247, 737), (1104, 760), (1172, 777), (1319, 751)]\n",
      "[(1247, 737), (1104, 760), (1172, 777), (1319, 751), (1247, 647)]\n",
      "[(1247, 737), (1104, 760), (1172, 777), (1319, 751), (1247, 647), (1104, 662)]\n",
      "[(1247, 737), (1104, 760), (1172, 777), (1319, 751), (1247, 647), (1104, 662), (1172, 674)]\n",
      "[(1247, 737), (1104, 760), (1172, 777), (1319, 751), (1247, 647), (1104, 662), (1172, 674), (1318, 657)]\n",
      "Processing subsets.json\n",
      "All coordinates data collected\n"
     ]
    }
   ],
   "source": [
    "# GUIアプリケーション\n",
    "class ImageApp:\n",
    "    def __init__(self, img_dir: str, resize_height: int, save_dir: str = os.getcwd()):\n",
    "        self.img_dir = img_dir\n",
    "        self.img = None\n",
    "        self.resize_height = resize_height\n",
    "        self.subsets = []  # 出力用データリスト\n",
    "        self.coords = []\n",
    "        self.rate = None\n",
    "        self.window_name = \"image\"\n",
    "        cv2.namedWindow(self.window_name)\n",
    "        cv2.moveWindow(self.window_name, 100, 100)\n",
    "\n",
    "    def onMouse(self, event, x, y, flags, params):\n",
    "        if event == cv2.EVENT_LBUTTONDOWN:\n",
    "            org_x, org_y = int(x / self.rate), int(y / self.rate)\n",
    "            self.coords.append((org_x, org_y))\n",
    "            self.draw_coordinates(self.coords)\n",
    "            cv2.imshow(self.window_name, self.img)\n",
    "            print(self.coords)\n",
    "\n",
    "    def draw_coordinates(self, coords):\n",
    "        for coord in coords:\n",
    "            x, y = coord\n",
    "            x = int(x * self.rate)\n",
    "            y = int(y * self.rate)\n",
    "            cv2.circle(self.img, (x, y), 3, (0, 0, 255), -1)\n",
    "\n",
    "    def getResizeRate(self, height):\n",
    "        return self.resize_height / height\n",
    "\n",
    "    def resize(self, img):\n",
    "        return cv2.resize(img, None, fx=self.rate, fy=self.rate)\n",
    "\n",
    "    def run(self):\n",
    "        img_list = os.listdir(self.img_dir)\n",
    "        for img_name in img_list:\n",
    "            print(f\"Processing {img_name}\")\n",
    "            img_path = os.path.join(self.img_dir, img_name)\n",
    "            self.img = cv2.imread(img_path)\n",
    "            if self.img is None:\n",
    "                if img_name.endswith(\".MOV\") or img_name.endswith(\".mov\"):\n",
    "                    cap = cv2.VideoCapture(img_path)\n",
    "                    ret, frame = cap.read()\n",
    "                    if not ret:\n",
    "                        print(f\"Cannot read {img_name}\")\n",
    "                        continue\n",
    "                    self.img = frame\n",
    "                else:\n",
    "                    continue\n",
    "            h, w = self.img.shape[:2]\n",
    "            self.rate = self.getResizeRate(h)\n",
    "            self.img = self.resize(self.img)\n",
    "            self.img_copy = self.img.copy()\n",
    "            cv2.imshow(self.window_name, self.img)\n",
    "            cv2.setMouseCallback(self.window_name, self.onMouse)\n",
    "\n",
    "            while True:\n",
    "                key = cv2.waitKey(0) & 0xFF\n",
    "                if key == ord(\"q\"):\n",
    "                    sys.exit(\"Quit\")\n",
    "                elif key == ord(\"c\"):\n",
    "                    self.coords = []\n",
    "                    print(self.coords)\n",
    "                elif key == ord(\"p\"):  # pop\n",
    "                    if len(self.coords) > 0:\n",
    "                        self.coords.pop()\n",
    "                        self.img = self.img_copy.copy()\n",
    "                        self.draw_coordinates(self.coords)\n",
    "                        cv2.imshow(self.window_name, self.img)\n",
    "                        print(self.coords)\n",
    "                elif key == ord(\"s\"):\n",
    "                    for coord in self.coords:\n",
    "                        # 各クリックごとの座標を辞書形式で保存\n",
    "                        key_name = f\"{img_name}\"\n",
    "                        self.subsets.append({key_name: list(coord)})\n",
    "                    self.coords = []\n",
    "                    break\n",
    "\n",
    "            cv2.destroyAllWindows()\n",
    "        print(\"All coordinates data collected\")\n",
    "        output_data = self.subsets\n",
    "        return output_data\n",
    "\n",
    "if __name__ == \"__main__\":\n",
    "    input_folder = \"cube_data\"\n",
    "    resize_height = 1080  # 画像の高さを1080にリサイズ\n",
    "    app = ImageApp(img_dir=input_folder, resize_height=resize_height)\n",
    "    subsets_json = app.run()"
   ]
  },
  {
   "cell_type": "code",
   "execution_count": 6,
   "metadata": {},
   "outputs": [],
   "source": [
    "# 変換処理\n",
    "result = []\n",
    "for i in range(len(subsets_json) // 2):  # データを半分に分ける\n",
    "    merged = {}\n",
    "    merged.update(subsets_json[i])  # 前半部分のデータを追加\n",
    "    merged.update(subsets_json[i + len(subsets_json) // 2])  # 後半部分のデータを追加\n",
    "    result.append(merged)\n",
    "\n",
    "# 結果を確認\n",
    "subsets_json = {\"subsets\":result}"
   ]
  },
  {
   "cell_type": "code",
   "execution_count": 7,
   "metadata": {},
   "outputs": [
    {
     "name": "stdout",
     "output_type": "stream",
     "text": [
      "JSONデータを subsets.json に保存しました。\n"
     ]
    }
   ],
   "source": [
    "output_json = {**subsets_json, **markers_json}\n",
    "\n",
    "# JSONファイルに保存\n",
    "output_file = \"subsets.json\"\n",
    "with open(output_file, \"w\") as f:\n",
    "    json.dump(output_json, f, indent=4)\n",
    "\n",
    "print(f\"JSONデータを {output_file} に保存しました。\")"
   ]
  }
 ],
 "metadata": {
  "kernelspec": {
   "display_name": ".venv",
   "language": "python",
   "name": "python3"
  },
  "language_info": {
   "codemirror_mode": {
    "name": "ipython",
    "version": 3
   },
   "file_extension": ".py",
   "mimetype": "text/x-python",
   "name": "python",
   "nbconvert_exporter": "python",
   "pygments_lexer": "ipython3",
   "version": "3.8.12"
  }
 },
 "nbformat": 4,
 "nbformat_minor": 2
}
